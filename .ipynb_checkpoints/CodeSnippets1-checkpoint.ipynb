{
 "cells": [
  {
   "cell_type": "markdown",
   "id": "1ba9a724-0daf-4438-8d05-25c8f7ee103a",
   "metadata": {},
   "source": [
    "### Defaultdict\n",
    "\n",
    "No more KeyError exceptions using a collections.defaultdict:"
   ]
  },
  {
   "cell_type": "code",
   "execution_count": 11,
   "id": "14763572-d82d-436f-8e0a-b46cf2bfb483",
   "metadata": {},
   "outputs": [],
   "source": [
    "from collections import defaultdict\n",
    "\n",
    "data = \"\"\"Tim,ID;Sara,BR;Thelma,CN;Chris,RU;Fina,ID;Juliana,SE;Roberto,CN;Mario,PL;Paul,CN\"\"\"\n",
    "\n",
    "countries = defaultdict(list)\n",
    "\n",
    "lines = data.split(\";\")\n",
    "\n",
    "for line in lines:\n",
    "    name, country_code = line.split(',')\n",
    "    countries[country_code].append(name)"
   ]
  },
  {
   "cell_type": "code",
   "execution_count": 12,
   "id": "b203d4b5-863a-4c8f-9a80-36d1accc589d",
   "metadata": {},
   "outputs": [
    {
     "data": {
      "text/plain": [
       "defaultdict(list,\n",
       "            {'ID': ['Tim', 'Fina'],\n",
       "             'BR': ['Sara'],\n",
       "             'CN': ['Thelma', 'Roberto', 'Paul'],\n",
       "             'RU': ['Chris'],\n",
       "             'SE': ['Juliana'],\n",
       "             'PL': ['Mario']})"
      ]
     },
     "execution_count": 12,
     "metadata": {},
     "output_type": "execute_result"
    }
   ],
   "source": [
    "countries"
   ]
  },
  {
   "cell_type": "markdown",
   "id": "f18bee52-9cee-4fc4-82ca-c031b5b828c5",
   "metadata": {},
   "source": [
    "### Different ways of flattening list of lists "
   ]
  },
  {
   "cell_type": "code",
   "execution_count": 13,
   "id": "df9ee225-5a05-444f-8ad5-bc155f0f7f7e",
   "metadata": {},
   "outputs": [
    {
     "data": {
      "text/plain": [
       "[1, 2, 3, 4, 5, 6, 7, 8]"
      ]
     },
     "execution_count": 13,
     "metadata": {},
     "output_type": "execute_result"
    }
   ],
   "source": [
    "list_of_lists = [[1, 2], [3], [4, 5], [6, 7, 8]]\n",
    "sum(list_of_lists, [])\n"
   ]
  },
  {
   "cell_type": "code",
   "execution_count": 14,
   "id": "281e5c40-589a-440d-98aa-5dd5b100e116",
   "metadata": {},
   "outputs": [
    {
     "data": {
      "text/plain": [
       "[1, 2, 3, 4, 5, 6, 7, 8]"
      ]
     },
     "execution_count": 14,
     "metadata": {},
     "output_type": "execute_result"
    }
   ],
   "source": [
    "# more explicit\n",
    "import itertools\n",
    "list(itertools.chain(*list_of_lists))"
   ]
  },
  {
   "cell_type": "code",
   "execution_count": 15,
   "id": "d054dce3-cbe5-45df-9d55-e1a6f146b97b",
   "metadata": {},
   "outputs": [
    {
     "data": {
      "text/plain": [
       "[1, 2, 3, 4, 5, 6, 7, 8, [1, [2, [3, 4]]]]"
      ]
     },
     "execution_count": 15,
     "metadata": {},
     "output_type": "execute_result"
    }
   ],
   "source": [
    "# not recursive though\n",
    "list_of_lists = [[1, 2], [3], [4, 5], [6, 7, 8, [1, [2, [3, 4]]]]]\n",
    "list(itertools.chain(*list_of_lists)) # or itertools.chain.from_iterable\n"
   ]
  },
  {
   "cell_type": "code",
   "execution_count": null,
   "id": "0911d454-d2c7-429d-91ed-86e47df6938d",
   "metadata": {},
   "outputs": [],
   "source": []
  },
  {
   "cell_type": "code",
   "execution_count": null,
   "id": "c80075a4-5106-4c5f-aeed-2d11806d50ec",
   "metadata": {},
   "outputs": [],
   "source": []
  },
  {
   "cell_type": "code",
   "execution_count": null,
   "id": "2a5c1523-8494-489d-8773-4089e46f8112",
   "metadata": {},
   "outputs": [],
   "source": []
  },
  {
   "cell_type": "code",
   "execution_count": null,
   "id": "69f5d169-3789-4d16-920c-08c944e3b205",
   "metadata": {},
   "outputs": [],
   "source": []
  },
  {
   "cell_type": "code",
   "execution_count": null,
   "id": "7302b340-3819-4539-a01b-de5d0ba862fa",
   "metadata": {},
   "outputs": [],
   "source": []
  },
  {
   "cell_type": "code",
   "execution_count": null,
   "id": "f8b33c28-8453-485e-bd8d-0a076557edfe",
   "metadata": {},
   "outputs": [],
   "source": []
  },
  {
   "cell_type": "code",
   "execution_count": null,
   "id": "157b20f2-040b-4ea7-9e57-c7814978fd8d",
   "metadata": {},
   "outputs": [],
   "source": []
  }
 ],
 "metadata": {
  "kernelspec": {
   "display_name": "Python 3 (ipykernel)",
   "language": "python",
   "name": "python3"
  },
  "language_info": {
   "codemirror_mode": {
    "name": "ipython",
    "version": 3
   },
   "file_extension": ".py",
   "mimetype": "text/x-python",
   "name": "python",
   "nbconvert_exporter": "python",
   "pygments_lexer": "ipython3",
   "version": "3.10.13"
  }
 },
 "nbformat": 4,
 "nbformat_minor": 5
}
