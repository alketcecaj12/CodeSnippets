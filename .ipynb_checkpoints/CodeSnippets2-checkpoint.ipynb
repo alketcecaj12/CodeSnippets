{
 "cells": [
  {
   "cell_type": "markdown",
   "id": "52bf4267-8306-4381-b5a8-9849a0940c73",
   "metadata": {},
   "source": [
    "### Using enumerate to have an extra index"
   ]
  },
  {
   "cell_type": "code",
   "execution_count": 1,
   "id": "6af940dd-f814-49d0-9dda-ef81b35d47be",
   "metadata": {},
   "outputs": [
    {
     "name": "stdout",
     "output_type": "stream",
     "text": [
      "0 10\n",
      "1 20\n",
      "2 30\n",
      "3 40\n",
      "4 50\n"
     ]
    }
   ],
   "source": [
    "for i, k in enumerate([10, 20, 30, 40, 50]):\n",
    "    print(i, k)"
   ]
  },
  {
   "cell_type": "markdown",
   "id": "a2a30d96-66d2-4095-a2c6-788f45dea15c",
   "metadata": {},
   "source": [
    "### How to use F-string"
   ]
  },
  {
   "cell_type": "code",
   "execution_count": 3,
   "id": "14981285-851a-4755-b8dc-9e4738e9c391",
   "metadata": {},
   "outputs": [
    {
     "name": "stdout",
     "output_type": "stream",
     "text": [
      "Hello Alket\n"
     ]
    }
   ],
   "source": [
    "name = \"Alket\"\n",
    "print(f\"Hello {name}\")"
   ]
  },
  {
   "cell_type": "markdown",
   "id": "9692071f-6c76-4954-8967-a916c7449b40",
   "metadata": {},
   "source": [
    "### Combinations with itertools"
   ]
  },
  {
   "cell_type": "code",
   "execution_count": 4,
   "id": "7272b0d4-0642-4042-805e-3aaf9b73ee13",
   "metadata": {},
   "outputs": [],
   "source": [
    "import itertools"
   ]
  },
  {
   "cell_type": "code",
   "execution_count": 5,
   "id": "58be148e-0bc9-4ba8-a4cc-f1d6814e8f08",
   "metadata": {},
   "outputs": [
    {
     "data": {
      "text/plain": [
       "[('Alket', 'Theis'),\n",
       " ('Alket', 'Rasmus'),\n",
       " ('Alket', 'Simon'),\n",
       " ('Theis', 'Rasmus'),\n",
       " ('Theis', 'Simon'),\n",
       " ('Rasmus', 'Simon')]"
      ]
     },
     "execution_count": 5,
     "metadata": {},
     "output_type": "execute_result"
    }
   ],
   "source": [
    "friends = [\"Alket\", \"Theis\", \"Rasmus\", \"Simon\"]\n",
    "list(itertools.combinations(friends, 2))"
   ]
  },
  {
   "cell_type": "markdown",
   "id": "d872cb0c-6339-42e3-a122-def41a773284",
   "metadata": {},
   "source": [
    "### Does a string represent a number"
   ]
  },
  {
   "cell_type": "code",
   "execution_count": 8,
   "id": "1ed7a6b2-8610-4610-a4b6-7ee14e81e6b4",
   "metadata": {},
   "outputs": [
    {
     "data": {
      "text/plain": [
       "['3']"
      ]
     },
     "execution_count": 8,
     "metadata": {},
     "output_type": "execute_result"
    }
   ],
   "source": [
    "s = \"It is almost 3 years now that I'm working in Nordea\"\n",
    "[f for f in s.split() if f.isdigit()]"
   ]
  },
  {
   "cell_type": "markdown",
   "id": "e2aadfaa-ec20-43e8-bbbc-cc9d4d924afe",
   "metadata": {},
   "source": [
    "### Count items with Counter"
   ]
  },
  {
   "cell_type": "code",
   "execution_count": 9,
   "id": "f42e92ab-d2a0-4722-807c-b5042aca9157",
   "metadata": {},
   "outputs": [],
   "source": [
    "from collections import Counter"
   ]
  },
  {
   "cell_type": "code",
   "execution_count": 10,
   "id": "50379c58-85dc-4dbf-af3a-28954cc2b684",
   "metadata": {},
   "outputs": [],
   "source": [
    "l = ['Alket', 'Alket', 'Simon', 'Theis', 'Alket']"
   ]
  },
  {
   "cell_type": "code",
   "execution_count": 11,
   "id": "bab67853-86e1-4426-882d-7c5beb7bd537",
   "metadata": {},
   "outputs": [
    {
     "data": {
      "text/plain": [
       "Counter({'Alket': 3, 'Simon': 1, 'Theis': 1})"
      ]
     },
     "execution_count": 11,
     "metadata": {},
     "output_type": "execute_result"
    }
   ],
   "source": [
    "Counter(l)"
   ]
  },
  {
   "cell_type": "markdown",
   "id": "7598c22a-f273-4412-91c0-ace26e250c22",
   "metadata": {},
   "source": [
    "### Create a dictionary from a list of items"
   ]
  },
  {
   "cell_type": "code",
   "execution_count": 16,
   "id": "4adfbdd8-6c5d-427f-9dfb-ea552bf436d9",
   "metadata": {},
   "outputs": [],
   "source": [
    "nodes = ['Alket:25', 'Simon:46', 'Theis:30']"
   ]
  },
  {
   "cell_type": "code",
   "execution_count": 17,
   "id": "485cc555-1646-4599-aa46-63e8f62ff443",
   "metadata": {},
   "outputs": [
    {
     "data": {
      "text/plain": [
       "{'Alket': '25', 'Simon': '46', 'Theis': '30'}"
      ]
     },
     "execution_count": 17,
     "metadata": {},
     "output_type": "execute_result"
    }
   ],
   "source": [
    "dict(node.split(':') for node in nodes)"
   ]
  },
  {
   "cell_type": "code",
   "execution_count": null,
   "id": "9f49a9d4-c88a-4004-b51d-8b325da44bdd",
   "metadata": {},
   "outputs": [],
   "source": []
  },
  {
   "cell_type": "code",
   "execution_count": null,
   "id": "b0573dd5-d79e-451d-874d-5f53654b341b",
   "metadata": {},
   "outputs": [],
   "source": []
  },
  {
   "cell_type": "code",
   "execution_count": null,
   "id": "2f6c6df3-0351-4aed-8f2b-293702bafe75",
   "metadata": {},
   "outputs": [],
   "source": []
  },
  {
   "cell_type": "code",
   "execution_count": null,
   "id": "012c99d7-56ed-458e-a658-ea8f8142452b",
   "metadata": {},
   "outputs": [],
   "source": []
  }
 ],
 "metadata": {
  "kernelspec": {
   "display_name": "Python 3 (ipykernel)",
   "language": "python",
   "name": "python3"
  },
  "language_info": {
   "codemirror_mode": {
    "name": "ipython",
    "version": 3
   },
   "file_extension": ".py",
   "mimetype": "text/x-python",
   "name": "python",
   "nbconvert_exporter": "python",
   "pygments_lexer": "ipython3",
   "version": "3.10.13"
  }
 },
 "nbformat": 4,
 "nbformat_minor": 5
}
