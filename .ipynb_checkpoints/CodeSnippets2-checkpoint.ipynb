{
 "cells": [
  {
   "cell_type": "markdown",
   "id": "52bf4267-8306-4381-b5a8-9849a0940c73",
   "metadata": {},
   "source": [
    "### Using enumerate to have an extra index"
   ]
  },
  {
   "cell_type": "code",
   "execution_count": 1,
   "id": "6af940dd-f814-49d0-9dda-ef81b35d47be",
   "metadata": {},
   "outputs": [
    {
     "name": "stdout",
     "output_type": "stream",
     "text": [
      "0 10\n",
      "1 20\n",
      "2 30\n",
      "3 40\n",
      "4 50\n"
     ]
    }
   ],
   "source": [
    "for i, k in enumerate([10, 20, 30, 40, 50]):\n",
    "    print(i, k)"
   ]
  },
  {
   "cell_type": "markdown",
   "id": "a2a30d96-66d2-4095-a2c6-788f45dea15c",
   "metadata": {},
   "source": [
    "### How to use F-string"
   ]
  },
  {
   "cell_type": "code",
   "execution_count": 2,
   "id": "14981285-851a-4755-b8dc-9e4738e9c391",
   "metadata": {},
   "outputs": [
    {
     "name": "stdout",
     "output_type": "stream",
     "text": [
      "Hello Alket\n"
     ]
    }
   ],
   "source": [
    "name = \"Alket\"\n",
    "print(f\"Hello {name}\")"
   ]
  },
  {
   "cell_type": "markdown",
   "id": "9692071f-6c76-4954-8967-a916c7449b40",
   "metadata": {},
   "source": [
    "### Combinations with itertools"
   ]
  },
  {
   "cell_type": "code",
   "execution_count": 3,
   "id": "7272b0d4-0642-4042-805e-3aaf9b73ee13",
   "metadata": {},
   "outputs": [],
   "source": [
    "import itertools"
   ]
  },
  {
   "cell_type": "code",
   "execution_count": 4,
   "id": "58be148e-0bc9-4ba8-a4cc-f1d6814e8f08",
   "metadata": {},
   "outputs": [
    {
     "data": {
      "text/plain": [
       "[('Alket', 'Theis'),\n",
       " ('Alket', 'Rasmus'),\n",
       " ('Alket', 'Simon'),\n",
       " ('Theis', 'Rasmus'),\n",
       " ('Theis', 'Simon'),\n",
       " ('Rasmus', 'Simon')]"
      ]
     },
     "execution_count": 4,
     "metadata": {},
     "output_type": "execute_result"
    }
   ],
   "source": [
    "friends = [\"Alket\", \"Theis\", \"Rasmus\", \"Simon\"]\n",
    "list(itertools.combinations(friends, 2))"
   ]
  },
  {
   "cell_type": "markdown",
   "id": "d872cb0c-6339-42e3-a122-def41a773284",
   "metadata": {},
   "source": [
    "### Does a string represent a number"
   ]
  },
  {
   "cell_type": "code",
   "execution_count": 5,
   "id": "1ed7a6b2-8610-4610-a4b6-7ee14e81e6b4",
   "metadata": {},
   "outputs": [
    {
     "data": {
      "text/plain": [
       "['3']"
      ]
     },
     "execution_count": 5,
     "metadata": {},
     "output_type": "execute_result"
    }
   ],
   "source": [
    "s = \"It is almost 3 years now that I'm working in Nordea\"\n",
    "[f for f in s.split() if f.isdigit()]"
   ]
  },
  {
   "cell_type": "markdown",
   "id": "e2aadfaa-ec20-43e8-bbbc-cc9d4d924afe",
   "metadata": {},
   "source": [
    "### Count items with Counter"
   ]
  },
  {
   "cell_type": "code",
   "execution_count": 6,
   "id": "f42e92ab-d2a0-4722-807c-b5042aca9157",
   "metadata": {},
   "outputs": [],
   "source": [
    "from collections import Counter"
   ]
  },
  {
   "cell_type": "code",
   "execution_count": 7,
   "id": "50379c58-85dc-4dbf-af3a-28954cc2b684",
   "metadata": {},
   "outputs": [],
   "source": [
    "l = ['Alket', 'Alket', 'Simon', 'Theis', 'Alket']"
   ]
  },
  {
   "cell_type": "code",
   "execution_count": 8,
   "id": "bab67853-86e1-4426-882d-7c5beb7bd537",
   "metadata": {},
   "outputs": [
    {
     "data": {
      "text/plain": [
       "Counter({'Alket': 3, 'Simon': 1, 'Theis': 1})"
      ]
     },
     "execution_count": 8,
     "metadata": {},
     "output_type": "execute_result"
    }
   ],
   "source": [
    "Counter(l)"
   ]
  },
  {
   "cell_type": "markdown",
   "id": "7598c22a-f273-4412-91c0-ace26e250c22",
   "metadata": {},
   "source": [
    "### Create a dictionary from a list of items"
   ]
  },
  {
   "cell_type": "code",
   "execution_count": 9,
   "id": "4adfbdd8-6c5d-427f-9dfb-ea552bf436d9",
   "metadata": {},
   "outputs": [],
   "source": [
    "nodes = ['Alket:25', 'Simon:46', 'Theis:30']"
   ]
  },
  {
   "cell_type": "code",
   "execution_count": 10,
   "id": "485cc555-1646-4599-aa46-63e8f62ff443",
   "metadata": {},
   "outputs": [
    {
     "data": {
      "text/plain": [
       "{'Alket': '25', 'Simon': '46', 'Theis': '30'}"
      ]
     },
     "execution_count": 10,
     "metadata": {},
     "output_type": "execute_result"
    }
   ],
   "source": [
    "dict(node.split(':') for node in nodes)"
   ]
  },
  {
   "cell_type": "markdown",
   "id": "1835dc0f-b1b4-44b7-94e5-46ad15529c2d",
   "metadata": {},
   "source": [
    "### Emojis in Python \n",
    "\n",
    "- You want emojis in Python? Check the emoji library!"
   ]
  },
  {
   "cell_type": "code",
   "execution_count": 11,
   "id": "01afe8e2-c6c4-4227-a0f0-79b6fc30bc91",
   "metadata": {},
   "outputs": [],
   "source": [
    "import emoji"
   ]
  },
  {
   "cell_type": "code",
   "execution_count": 12,
   "id": "6b2dd9c3-bb49-46f5-a9b1-98a7ce890bfc",
   "metadata": {},
   "outputs": [
    {
     "data": {
      "text/plain": [
       "'🐍'"
      ]
     },
     "execution_count": 12,
     "metadata": {},
     "output_type": "execute_result"
    }
   ],
   "source": [
    "emoji.emojize(\":snake:\")"
   ]
  },
  {
   "cell_type": "markdown",
   "id": "bbaaa214-5831-4cf5-9919-78e8cd5d6e7d",
   "metadata": {},
   "source": [
    "### When ZIP truncates"
   ]
  },
  {
   "cell_type": "markdown",
   "id": "bb64c560-093e-40d7-92e0-b34aaa33f8c2",
   "metadata": {},
   "source": [
    "- How to combine two iterators of different lenghts without loosing data. "
   ]
  },
  {
   "cell_type": "code",
   "execution_count": 13,
   "id": "39be446f-d563-48a3-ae06-ea568a949a93",
   "metadata": {},
   "outputs": [],
   "source": [
    "names = \"julian bob alket bill martin simon theis\".split()\n",
    "countries = \"australia spain argentina italy\".split()"
   ]
  },
  {
   "cell_type": "code",
   "execution_count": 15,
   "id": "c0f5f2bc-98db-4156-af0d-09a21e4654c1",
   "metadata": {},
   "outputs": [],
   "source": [
    "from itertools import zip_longest"
   ]
  },
  {
   "cell_type": "code",
   "execution_count": 17,
   "id": "7362ce75-9fda-4605-b684-be3b3c1150c9",
   "metadata": {},
   "outputs": [
    {
     "data": {
      "text/plain": [
       "[('julian', 'australia'),\n",
       " ('bob', 'spain'),\n",
       " ('alket', 'argentina'),\n",
       " ('bill', 'italy'),\n",
       " ('martin', 'WorldWide'),\n",
       " ('simon', 'WorldWide'),\n",
       " ('theis', 'WorldWide')]"
      ]
     },
     "execution_count": 17,
     "metadata": {},
     "output_type": "execute_result"
    }
   ],
   "source": [
    "list(zip_longest(names, countries, fillvalue = \"WorldWide\"))"
   ]
  },
  {
   "cell_type": "code",
   "execution_count": null,
   "id": "d93b7eb2-bea2-4185-8518-34ad9dfbd11b",
   "metadata": {},
   "outputs": [],
   "source": []
  },
  {
   "cell_type": "code",
   "execution_count": null,
   "id": "d1b0daee-7ada-4216-8e2a-0cae7349e29c",
   "metadata": {},
   "outputs": [],
   "source": []
  },
  {
   "cell_type": "code",
   "execution_count": null,
   "id": "211ca228-7418-4888-a5c6-74ba717afd81",
   "metadata": {},
   "outputs": [],
   "source": []
  },
  {
   "cell_type": "code",
   "execution_count": null,
   "id": "45c10b07-893d-4184-9bc9-dee711249da1",
   "metadata": {},
   "outputs": [],
   "source": []
  },
  {
   "cell_type": "code",
   "execution_count": null,
   "id": "2b0bbb60-d340-4d68-8ae6-f7fb264301aa",
   "metadata": {},
   "outputs": [],
   "source": []
  },
  {
   "cell_type": "code",
   "execution_count": null,
   "id": "e3ac1d99-a183-4e90-96d7-d1cd83c8e314",
   "metadata": {},
   "outputs": [],
   "source": []
  },
  {
   "cell_type": "code",
   "execution_count": null,
   "id": "1c76cb9f-9516-4ad5-bda2-adaa6aa8d002",
   "metadata": {},
   "outputs": [],
   "source": []
  }
 ],
 "metadata": {
  "kernelspec": {
   "display_name": "Python 3 (ipykernel)",
   "language": "python",
   "name": "python3"
  },
  "language_info": {
   "codemirror_mode": {
    "name": "ipython",
    "version": 3
   },
   "file_extension": ".py",
   "mimetype": "text/x-python",
   "name": "python",
   "nbconvert_exporter": "python",
   "pygments_lexer": "ipython3",
   "version": "3.10.13"
  }
 },
 "nbformat": 4,
 "nbformat_minor": 5
}
